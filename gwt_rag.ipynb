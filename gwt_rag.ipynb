{
 "cells": [
  {
   "cell_type": "code",
   "execution_count": 31,
   "metadata": {},
   "outputs": [],
   "source": [
    "from langchain_community.vectorstores import Chroma\n",
    "from langchain_community.embeddings import HuggingFaceEmbeddings\n",
    "from langchain.text_splitter import RecursiveCharacterTextSplitter\n",
    "from langchain_community.document_loaders import UnstructuredMarkdownLoader\n",
    "from langchain import hub\n",
    "from langchain_core.runnables import RunnablePassthrough\n",
    "from langchain_core.output_parsers import StrOutputParser\n",
    "from langchain_openai import ChatOpenAI\n",
    "import os\n",
    "from langchain_community.vectorstores import Chroma\n",
    "from langchain_community.embeddings import HuggingFaceEmbeddings"
   ]
  },
  {
   "cell_type": "code",
   "execution_count": 34,
   "metadata": {},
   "outputs": [
    {
     "name": "stderr",
     "output_type": "stream",
     "text": [
      "c:\\Python312\\Lib\\site-packages\\huggingface_hub\\file_download.py:1132: FutureWarning: `resume_download` is deprecated and will be removed in version 1.0.0. Downloads always resume when possible. If you want to force a new download, use `force_download=True`.\n",
      "  warnings.warn(\n"
     ]
    }
   ],
   "source": [
    "\n",
    "# DATA GENERATION CODE\n",
    "# def process_md_files(folder_path, ignore_folder):\n",
    "#     markdownFiles = []\n",
    "#     for root, dirs, files in os.walk(folder_path):\n",
    "#         if ignore_folder in dirs:\n",
    "#             dirs.remove(ignore_folder)\n",
    "#         for file in files:\n",
    "#             if file.endswith(\".md\"):\n",
    "#                 file_path = os.path.join(root, file)\n",
    "#                 markdownFiles.append(UnstructuredMarkdownLoader(file_path))\n",
    "#     return markdownFiles\n",
    "\n",
    "# folder_path = \"./input\"\n",
    "# ignore_folder = \"output\"\n",
    "# loaders = process_md_files(folder_path, ignore_folder)\n",
    "\n",
    "# docs = []\n",
    "# for file in loaders:\n",
    "#     docs.extend(file.load())\n",
    "    \n",
    "# #split text to chunks\n",
    "# text_splitter = RecursiveCharacterTextSplitter(chunk_size=1000, chunk_overlap=100)\n",
    "# docs = text_splitter.split_documents(docs)\n",
    "# embedding_function = HuggingFaceEmbeddings(model_name=\"sentence-transformers/all-MiniLM-L6-v2\", model_kwargs={'device': 'cpu'})\n",
    "\n",
    "# vectorstore = Chroma.from_documents(docs, embedding_function, persist_directory=\"./chroma_db_nccn\")\n",
    "\n",
    "# print(vectorstore._collection.count())"
   ]
  },
  {
   "cell_type": "code",
   "execution_count": 33,
   "metadata": {},
   "outputs": [
    {
     "name": "stderr",
     "output_type": "stream",
     "text": [
      "c:\\Python312\\Lib\\site-packages\\huggingface_hub\\file_download.py:1132: FutureWarning: `resume_download` is deprecated and will be removed in version 1.0.0. Downloads always resume when possible. If you want to force a new download, use `force_download=True`.\n",
      "  warnings.warn(\n"
     ]
    },
    {
     "name": "stdout",
     "output_type": "stream",
     "text": [
      "Document: page_content='ἀποθήκη/apothēkē\\n\\nThis word is a type of place. It is a noun.\\n\\nThis word means a storehouse or barn. This is a building where grain is stored.' metadata={'source': './input\\\\en_gwt\\\\g0591-g0600\\\\g0596.md'}\n"
     ]
    },
    {
     "data": {
      "text/plain": [
       "\" αποθηκη (apothēkē) can be used to translate 'Warehouse' as it denotes a place for storage, specifically referring to a storehouse or a space storing grains.\""
      ]
     },
     "execution_count": 33,
     "metadata": {},
     "output_type": "execute_result"
    }
   ],
   "source": [
    "client = ChatOpenAI(base_url=\"http://localhost:1234/v1\", api_key=\"not-needed\")\n",
    "\n",
    "embedding_function=HuggingFaceEmbeddings(model_name=\"sentence-transformers/all-MiniLM-L6-v2\")\n",
    "vector_db = Chroma(persist_directory=\"./chroma_db_nccn\", embedding_function=embedding_function)\n",
    "\n",
    "retriever = vector_db.as_retriever(search_kwargs={\"k\": 1})\n",
    "\n",
    "prompt = hub.pull(\"rlm/rag-prompt\")\n",
    "\n",
    "def format_docs(docs):\n",
    "    return \"\\n\\n\".join(doc.page_content for doc in docs)\n",
    "\n",
    "def print_and_format_docs(docs):\n",
    "    for doc in docs:\n",
    "        print(f\"Document: {doc}\")\n",
    "    return format_docs(docs)\n",
    "\n",
    "rag_chain = (\n",
    "    {\"context\": retriever | print_and_format_docs, \"question\": RunnablePassthrough()}\n",
    "    | prompt\n",
    "    | client\n",
    "    | StrOutputParser()\n",
    ")\n",
    "\n",
    "rag_chain.invoke(\"What is a good Greek word to use when translating the word 'Warehouse'\")"
   ]
  }
 ],
 "metadata": {
  "kernelspec": {
   "display_name": "Python 3",
   "language": "python",
   "name": "python3"
  },
  "language_info": {
   "codemirror_mode": {
    "name": "ipython",
    "version": 3
   },
   "file_extension": ".py",
   "mimetype": "text/x-python",
   "name": "python",
   "nbconvert_exporter": "python",
   "pygments_lexer": "ipython3",
   "version": "3.12.2"
  }
 },
 "nbformat": 4,
 "nbformat_minor": 2
}
