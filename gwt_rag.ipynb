{
 "cells": [
  {
   "cell_type": "code",
   "execution_count": 1,
   "metadata": {},
   "outputs": [],
   "source": [
    "from langchain_community.vectorstores import Chroma\n",
    "from langchain_community.embeddings import HuggingFaceEmbeddings\n",
    "from langchain import hub\n",
    "from langchain_core.runnables import RunnablePassthrough\n",
    "from langchain_core.output_parsers import StrOutputParser\n",
    "from langchain_openai import ChatOpenAI\n",
    "from langchain_community.embeddings import HuggingFaceEmbeddings"
   ]
  },
  {
   "cell_type": "code",
   "execution_count": 3,
   "metadata": {},
   "outputs": [],
   "source": [
    "chromaDirectory = \"./chroma_db_nccn\"\n",
    "clientBaseUrl = \"http://localhost:1234/v1\"\n",
    "clientApiKey = \"not-needed\"\n",
    "sentenceTransformerName = \"sentence-transformers/all-MiniLM-L6-v2\"\n",
    "\n",
    "def format_docs(docs):\n",
    "    return \"\\n\\n\".join(doc.page_content for doc in docs)\n",
    "\n",
    "def print_and_format_docs(docs):\n",
    "    for doc in docs:\n",
    "        print(f\"Document: {doc}\")\n",
    "    return format_docs(docs)\n",
    "\n",
    "client = ChatOpenAI(base_url=clientBaseUrl, api_key=clientApiKey)\n",
    "embedding_function=HuggingFaceEmbeddings(model_name=sentenceTransformerName)\n",
    "vector_db = Chroma(persist_directory=chromaDirectory, embedding_function=embedding_function)\n",
    "prompt = hub.pull(\"rlm/rag-prompt\")\n",
    "\n",
    "retriever = vector_db.as_retriever(search_kwargs={\"k\": 1})\n",
    "\n",
    "rag_chain = (\n",
    "    {\"context\": retriever | print_and_format_docs, \"question\": RunnablePassthrough()}\n",
    "    | prompt\n",
    "    | client\n",
    "    | StrOutputParser()\n",
    ")\n",
    "\n",
    "rag_chain.invoke(\"What is a good Greek word to use when translating the word 'Warehouse'\")"
   ]
  }
 ],
 "metadata": {
  "kernelspec": {
   "display_name": "Python 3",
   "language": "python",
   "name": "python3"
  },
  "language_info": {
   "codemirror_mode": {
    "name": "ipython",
    "version": 3
   },
   "file_extension": ".py",
   "mimetype": "text/x-python",
   "name": "python",
   "nbconvert_exporter": "python",
   "pygments_lexer": "ipython3",
   "version": "3.12.2"
  }
 },
 "nbformat": 4,
 "nbformat_minor": 2
}
